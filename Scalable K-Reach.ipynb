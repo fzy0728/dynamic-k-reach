{
 "cells": [
  {
   "cell_type": "code",
   "execution_count": 1,
   "metadata": {
    "collapsed": true
   },
   "outputs": [],
   "source": [
    "import networkx as nx\n",
    "import random as rnd\n",
    "# import pdb"
   ]
  },
  {
   "cell_type": "markdown",
   "metadata": {},
   "source": [
    "Read graph in kreach format"
   ]
  },
  {
   "cell_type": "code",
   "execution_count": 2,
   "metadata": {
    "collapsed": false
   },
   "outputs": [],
   "source": [
    "def read_kreach(filename):\n",
    "    G = nx.DiGraph()\n",
    "    with open(filename) as fin:\n",
    "        n = 0\n",
    "        m = 0\n",
    "        for i, line in enumerate(fin):\n",
    "            data = [int(s) for s in line.split()]\n",
    "            if (i == 0):\n",
    "                n = data[0]\n",
    "                m = data[1]\n",
    "            else:\n",
    "                G.add_node(data[0])\n",
    "                if (data[1] > 0):\n",
    "                    for v in data[2:]:\n",
    "                        G.add_edge(data[0], v)\n",
    "    return G"
   ]
  },
  {
   "cell_type": "code",
   "execution_count": 27,
   "metadata": {
    "collapsed": false
   },
   "outputs": [],
   "source": [
    "G = read_kreach('agrocyc_dag_uniq.kreach')\n",
    "k = 3\n",
    "b = 1000"
   ]
  },
  {
   "cell_type": "code",
   "execution_count": 28,
   "metadata": {
    "collapsed": false
   },
   "outputs": [
    {
     "name": "stdout",
     "output_type": "stream",
     "text": [
      "n: 12684, m: 13408\n"
     ]
    }
   ],
   "source": [
    "print(\"n: {}, m: {}\".format(G.number_of_nodes(), G.number_of_edges()))"
   ]
  },
  {
   "cell_type": "markdown",
   "metadata": {},
   "source": [
    "Construction of $D_1$ at the first level"
   ]
  },
  {
   "cell_type": "code",
   "execution_count": 5,
   "metadata": {
    "collapsed": true
   },
   "outputs": [],
   "source": [
    "def largest_degree_node(G):\n",
    "    degrees = G.degree(G.nodes())\n",
    "    return max(degrees.keys(), key=lambda key: degrees[key])"
   ]
  },
  {
   "cell_type": "code",
   "execution_count": 6,
   "metadata": {
    "collapsed": false
   },
   "outputs": [],
   "source": [
    "def forward_bfs(G, v, D, S, V, s=None, d=None):\n",
    "    predecessors = {v: set()}\n",
    "    dist = {v: 0}\n",
    "    if (s is None):\n",
    "        s = v\n",
    "    else:\n",
    "        predecessors[s] = set([v])\n",
    "        dist[s] = d\n",
    "    queue = [s]\n",
    "    while (queue):\n",
    "        u = queue.pop(0)\n",
    "        if (u in S):\n",
    "            D.add_edge(v, u, weight=dist[u])\n",
    "        elif (not ((predecessors[u] - set([v])) & S)):\n",
    "            V.add(u)\n",
    "            D.add_edge(v, u, weight=dist[u])\n",
    "        if (dist[u] >= k):\n",
    "            continue\n",
    "        for nxt in G.successors(u):\n",
    "            if (nxt not in dist):\n",
    "                dist[nxt] = dist[u] + 1\n",
    "                queue.append(nxt)\n",
    "                predecessors[nxt] = predecessors[u].copy()\n",
    "                predecessors[nxt].add(u)\n",
    "                \n",
    "def backward_bfs(G, v, D, S, V, s=None, d=None):\n",
    "    dist = {v: 0}\n",
    "    predecessors = {v: set()}\n",
    "    if (s is None):\n",
    "        s = v\n",
    "    else:\n",
    "        predecessors[s] = set([v])\n",
    "        dist[s] = d\n",
    "    queue = [s]\n",
    "    while (queue):\n",
    "        u = queue.pop(0)\n",
    "        if (u in S):\n",
    "            D.add_edge(u, v, weight=dist[u])\n",
    "        elif (not ((predecessors[u] - set([v])) & S)):\n",
    "            V.add(u)\n",
    "            D.add_edge(u, v, weight=dist[u])\n",
    "        if (dist[u] >= k):\n",
    "            continue\n",
    "        for nxt in G.predecessors(u):\n",
    "            if (nxt not in dist):\n",
    "                dist[nxt] = dist[u] + 1\n",
    "                queue.append(nxt)\n",
    "                predecessors[nxt] = predecessors[u].copy()\n",
    "                predecessors[nxt].add(u)\n",
    "\n",
    "def construct_d(G):\n",
    "    temp = G.copy()\n",
    "    S = set()\n",
    "    D = nx.DiGraph()\n",
    "    V = set()\n",
    "    \n",
    "    while (len(S) <= b and temp.number_of_nodes() > 0):\n",
    "        v = largest_degree_node(temp)\n",
    "        # Process graph\n",
    "        forward_bfs(G, v, D, S, V)\n",
    "        # Process reverse graph\n",
    "        backward_bfs(G, v, D, S, V)\n",
    "        \n",
    "        S.add(v)\n",
    "        temp.remove_nodes_from(V)\n",
    "        temp.remove_nodes_from(nx.isolates(temp))\n",
    "        \n",
    "    return (D, V, S)"
   ]
  },
  {
   "cell_type": "code",
   "execution_count": 29,
   "metadata": {
    "collapsed": false
   },
   "outputs": [],
   "source": [
    "D1, VD1, S = construct_d(G)"
   ]
  },
  {
   "cell_type": "code",
   "execution_count": 30,
   "metadata": {
    "collapsed": false
   },
   "outputs": [
    {
     "name": "stdout",
     "output_type": "stream",
     "text": [
      "n: 12606, m: 22417, |S|: 131\n"
     ]
    }
   ],
   "source": [
    "print(\"n: {}, m: {}, |S|: {}\".format(D1.number_of_nodes(), D1.number_of_edges(), len(S)))"
   ]
  },
  {
   "cell_type": "markdown",
   "metadata": {},
   "source": [
    "Construction of $D_2$ at the second level"
   ]
  },
  {
   "cell_type": "code",
   "execution_count": 31,
   "metadata": {
    "collapsed": true
   },
   "outputs": [],
   "source": [
    "b = 10000"
   ]
  },
  {
   "cell_type": "code",
   "execution_count": 32,
   "metadata": {
    "collapsed": true
   },
   "outputs": [],
   "source": [
    "Gp = G.copy()\n",
    "Gp.remove_nodes_from(S)"
   ]
  },
  {
   "cell_type": "code",
   "execution_count": 33,
   "metadata": {
    "collapsed": false
   },
   "outputs": [
    {
     "name": "stdout",
     "output_type": "stream",
     "text": [
      "n: 12553, m: 1349\n"
     ]
    }
   ],
   "source": [
    "print(\"n: {}, m: {}\".format(Gp.number_of_nodes(), Gp.number_of_edges()))"
   ]
  },
  {
   "cell_type": "code",
   "execution_count": 34,
   "metadata": {
    "collapsed": false
   },
   "outputs": [],
   "source": [
    "D2, VD2, Sp = construct_d(Gp)"
   ]
  },
  {
   "cell_type": "code",
   "execution_count": 35,
   "metadata": {
    "collapsed": false
   },
   "outputs": [
    {
     "name": "stdout",
     "output_type": "stream",
     "text": [
      "n: 981, m: 1030, |S'|: 68\n"
     ]
    }
   ],
   "source": [
    "print(\"n: {}, m: {}, |S'|: {}\".format(D2.number_of_nodes(), D2.number_of_edges(), len(Sp)))"
   ]
  },
  {
   "cell_type": "markdown",
   "metadata": {},
   "source": [
    "Tuning?"
   ]
  },
  {
   "cell_type": "code",
   "execution_count": null,
   "metadata": {
    "collapsed": true
   },
   "outputs": [],
   "source": [
    "VD1capSp = VD1 & Sp"
   ]
  },
  {
   "cell_type": "code",
   "execution_count": null,
   "metadata": {
    "collapsed": false
   },
   "outputs": [],
   "source": [
    "# for u in VD1capSp:\n",
    "#     for v in VD1capSp:\n",
    "#         if ()"
   ]
  },
  {
   "cell_type": "markdown",
   "metadata": {},
   "source": [
    "Construction of residual graph $D_3$"
   ]
  },
  {
   "cell_type": "code",
   "execution_count": 36,
   "metadata": {
    "collapsed": true
   },
   "outputs": [],
   "source": [
    "D3 = Gp.copy()\n",
    "D3.remove_nodes_from(Sp)"
   ]
  },
  {
   "cell_type": "code",
   "execution_count": 37,
   "metadata": {
    "collapsed": false
   },
   "outputs": [
    {
     "name": "stdout",
     "output_type": "stream",
     "text": [
      "n: 12485, m: 566\n"
     ]
    }
   ],
   "source": [
    "print(\"n: {}, m: {}\".format(D3.number_of_nodes(), D3.number_of_edges()))"
   ]
  },
  {
   "cell_type": "markdown",
   "metadata": {},
   "source": [
    "Querying"
   ]
  },
  {
   "cell_type": "code",
   "execution_count": 16,
   "metadata": {
    "collapsed": true
   },
   "outputs": [],
   "source": [
    "def single_intermediate(s, t, D, S):\n",
    "    if (s not in D.nodes() or t not in D.nodes()):\n",
    "        return False\n",
    "    cand = set(D.successors(s)) & set(D.predecessors(t)) & S\n",
    "    for v in cand:\n",
    "        if (D.edge[s][v]['weight'] + D.edge[v][t]['weight'] <= k):\n",
    "            return True\n",
    "    return False\n",
    "\n",
    "def double_intermediate(s, t, D, S):\n",
    "    if (s not in D.nodes() or t not in D.nodes()):\n",
    "        return False\n",
    "    candu = set(D.successors(s)) & S\n",
    "    candv = set(D.predecessors(t)) & S\n",
    "    for u in candu:\n",
    "        for v in candv:\n",
    "            if (D.has_edge(u, v)):\n",
    "                if (D.edge[s][u]['weight'] + D.edge[u][v]['weight'] + D.edge[v][t]['weight'] <= k):\n",
    "                    return True\n",
    "    return False\n",
    "\n",
    "cases = {case: 0 for case in range(1,6)}\n",
    "\n",
    "def query(s, t):\n",
    "    # Case 1: both s and t are in S\n",
    "    if (s in S and t in S):\n",
    "        cases[1] = cases[1] + 1\n",
    "        if (D1.has_edge(s, t)):\n",
    "            return True\n",
    "        else:\n",
    "            return False\n",
    "    # Case 2: s or t is in S, but not both\n",
    "    elif (s in S or t in S):\n",
    "        cases[2] = cases[2] + 1\n",
    "        if (D1.has_edge(s, t) or single_intermediate(s, t, D1, S)):\n",
    "            return True\n",
    "        else:\n",
    "            return False\n",
    "    # Case 3: both s and t are in S'\n",
    "    elif (s in Sp and t in Sp):\n",
    "        cases[3] = cases[3] + 1\n",
    "        if (D2.has_edge(s, t) or double_intermediate(s, t, D1, S)):\n",
    "            return True\n",
    "        else:\n",
    "            return False\n",
    "    # Case 4: s or t is in S'\n",
    "    elif (s in Sp or t in Sp):\n",
    "        cases[4] = cases[4] + 1\n",
    "        if (D2.has_edge(s, t) or single_intermediate(s, t, D2, Sp) or double_intermediate(s, t, D1, S)):\n",
    "            return True\n",
    "        else:\n",
    "            return False\n",
    "    # Case 5: both s and t are not in S or S'\n",
    "    elif (s in D3.nodes() and t in D3.nodes()):\n",
    "        cases[5] = cases[5] + 1\n",
    "        if (double_intermediate(s, t, D1, S) or double_intermediate(s, t, D2, Sp)):\n",
    "            return True\n",
    "        else:\n",
    "            try:\n",
    "                return nx.shortest_path_length(D3, s, t) <= k\n",
    "            except:\n",
    "                return False"
   ]
  },
  {
   "cell_type": "markdown",
   "metadata": {},
   "source": [
    "Test correctness"
   ]
  },
  {
   "cell_type": "code",
   "execution_count": 47,
   "metadata": {
    "collapsed": false
   },
   "outputs": [],
   "source": [
    "dist_test = []\n",
    "for i in range(10000):\n",
    "    s = rnd.choice(G.nodes())\n",
    "    t = rnd.choice(G.nodes())\n",
    "    d = 0    \n",
    "    try:\n",
    "        d = nx.shortest_path_length(G, s, t)\n",
    "    except:\n",
    "        pass\n",
    "    dist_test.append((s, t, d))"
   ]
  },
  {
   "cell_type": "code",
   "execution_count": 48,
   "metadata": {
    "collapsed": false
   },
   "outputs": [],
   "source": [
    "# No output - good!\n",
    "for s, t, d in dist_test:\n",
    "    q = query(s, t)\n",
    "    if (not q and d <= 0):\n",
    "        continue\n",
    "    if (q ^ (d <= k)):\n",
    "        print(\"Error in pair ({}, {})\".format(s, t))"
   ]
  },
  {
   "cell_type": "markdown",
   "metadata": {
    "collapsed": true
   },
   "source": [
    "Edge insertion"
   ]
  },
  {
   "cell_type": "code",
   "execution_count": 19,
   "metadata": {
    "collapsed": true
   },
   "outputs": [],
   "source": [
    "def update_graph(G, s, t):\n",
    "    if (s in G.nodes() and t in G.nodes()):\n",
    "        G.add_edge(s, t)"
   ]
  },
  {
   "cell_type": "code",
   "execution_count": 40,
   "metadata": {
    "collapsed": false
   },
   "outputs": [
    {
     "name": "stdout",
     "output_type": "stream",
     "text": [
      "(6899, 9534)\n"
     ]
    }
   ],
   "source": [
    "print(\"({}, {})\".format(rnd.choice(G.nodes()), rnd.choice(G.nodes())))"
   ]
  },
  {
   "cell_type": "code",
   "execution_count": 41,
   "metadata": {
    "collapsed": true
   },
   "outputs": [],
   "source": [
    "G.add_edge(6899, 9534)\n",
    "update_graph(Gp, 6899, 9534)\n",
    "update_graph(D3, 6899, 9534)"
   ]
  },
  {
   "cell_type": "code",
   "execution_count": 42,
   "metadata": {
    "collapsed": false
   },
   "outputs": [
    {
     "name": "stdout",
     "output_type": "stream",
     "text": [
      "n: 12684, m: 13409\n",
      "n: 12553, m: 1350\n",
      "n: 12485, m: 567\n"
     ]
    }
   ],
   "source": [
    "print(\"n: {}, m: {}\".format(G.number_of_nodes(), G.number_of_edges()))\n",
    "print(\"n: {}, m: {}\".format(Gp.number_of_nodes(), Gp.number_of_edges()))\n",
    "print(\"n: {}, m: {}\".format(D3.number_of_nodes(), D3.number_of_edges()))"
   ]
  },
  {
   "cell_type": "code",
   "execution_count": 22,
   "metadata": {
    "collapsed": false
   },
   "outputs": [],
   "source": [
    "def update_d(G, s, t, D, S, V):\n",
    "    # Process graph\n",
    "    for v in D.predecessors(s): # if s is reachable from v\n",
    "        if (D.edge[v][s]['weight'] < k): # if we can go further than s\n",
    "            if (D.has_edge(v, t)):\n",
    "                if (D.edge[v][t]['weight'] > D.edge[v][s]['weight'] + 1):\n",
    "                    D.edge[v][t]['weight'] = D.edge[v][s]['weight'] + 1\n",
    "                    forward_bfs(G, v, D, S, V, t, D.edge[v][t]['weight'])\n",
    "            else:\n",
    "                D.add_edge(v, t, weight=D.edge[v][s]['weight'] + 1)\n",
    "                forward_bfs(G, v, D, S, V, t, D.edge[v][t]['weight'])\n",
    "    # Process reverse graph\n",
    "    for v in D.successors(t):\n",
    "        if (D.edge[t][v]['weight'] < k):\n",
    "            if (D.has_edge(s, v)):\n",
    "                if (D.edge[s][v]['weight'] > D.edge[t][v]['weight'] + 1):\n",
    "                    D.edge[s][v]['weight'] = D.edge[t][v]['weight'] + 1\n",
    "                    backward_bfs(G, v, D, S, V, s, D.edge[s][v]['weight'])\n",
    "            else:\n",
    "                D.add_edge(s, v, weight=D.edge[t][v]['weight'] + 1)\n",
    "                backward_bfs(G, v, D, S, V, s, D.edge[s][v]['weight'])"
   ]
  },
  {
   "cell_type": "code",
   "execution_count": 43,
   "metadata": {
    "collapsed": false
   },
   "outputs": [],
   "source": [
    "update_d(G, 2, 7, D1, S, VD1)\n",
    "update_d(Gp, 2, 7, D2, Sp, VD2)"
   ]
  },
  {
   "cell_type": "code",
   "execution_count": 44,
   "metadata": {
    "collapsed": false
   },
   "outputs": [
    {
     "name": "stdout",
     "output_type": "stream",
     "text": [
      "n: 12606, m: 22417, |S|: 131\n",
      "n: 982, m: 1031, |S'|: 68\n"
     ]
    }
   ],
   "source": [
    "print(\"n: {}, m: {}, |S|: {}\".format(D1.number_of_nodes(), D1.number_of_edges(), len(S)))\n",
    "print(\"n: {}, m: {}, |S'|: {}\".format(D2.number_of_nodes(), D2.number_of_edges(), len(Sp)))"
   ]
  },
  {
   "cell_type": "code",
   "execution_count": null,
   "metadata": {
    "collapsed": true
   },
   "outputs": [],
   "source": []
  }
 ],
 "metadata": {
  "anaconda-cloud": {},
  "kernelspec": {
   "display_name": "Python 3",
   "language": "python",
   "name": "python3"
  },
  "language_info": {
   "codemirror_mode": {
    "name": "ipython",
    "version": 3
   },
   "file_extension": ".py",
   "mimetype": "text/x-python",
   "name": "python",
   "nbconvert_exporter": "python",
   "pygments_lexer": "ipython3",
   "version": "3.6.0"
  }
 },
 "nbformat": 4,
 "nbformat_minor": 1
}
